{
  "nbformat": 4,
  "nbformat_minor": 0,
  "metadata": {
    "colab": {
      "provenance": [],
      "authorship_tag": "ABX9TyMAaLYS+E271GZ/cvSy5Zn5",
      "include_colab_link": true
    },
    "kernelspec": {
      "name": "python3",
      "display_name": "Python 3"
    },
    "language_info": {
      "name": "python"
    }
  },
  "cells": [
    {
      "cell_type": "markdown",
      "metadata": {
        "id": "view-in-github",
        "colab_type": "text"
      },
      "source": [
        "<a href=\"https://colab.research.google.com/github/sayanGh-lab/Graph-neural-Network/blob/main/GNN_Pearson_019_6A_theta_eye_close_cluster5.ipynb\" target=\"_parent\"><img src=\"https://colab.research.google.com/assets/colab-badge.svg\" alt=\"Open In Colab\"/></a>"
      ]
    },
    {
      "cell_type": "code",
      "execution_count": null,
      "metadata": {
        "colab": {
          "base_uri": "https://localhost:8080/"
        },
        "id": "deJljQG2_nXw",
        "outputId": "5f020f5b-8d2e-48c5-c342-ac394cd021d2"
      },
      "outputs": [
        {
          "output_type": "stream",
          "name": "stdout",
          "text": [
            "Looking in indexes: https://pypi.org/simple, https://us-python.pkg.dev/colab-wheels/public/simple/\n",
            "Requirement already satisfied: scipy in /usr/local/lib/python3.10/dist-packages (1.10.1)\n",
            "Requirement already satisfied: numpy<1.27.0,>=1.19.5 in /usr/local/lib/python3.10/dist-packages (from scipy) (1.22.4)\n",
            "Looking in indexes: https://pypi.org/simple, https://us-python.pkg.dev/colab-wheels/public/simple/\n",
            "Collecting keras-gcn\n",
            "  Downloading keras-gcn-0.15.0.tar.gz (4.6 kB)\n",
            "  Preparing metadata (setup.py) ... \u001b[?25l\u001b[?25hdone\n",
            "Building wheels for collected packages: keras-gcn\n",
            "  Building wheel for keras-gcn (setup.py) ... \u001b[?25l\u001b[?25hdone\n",
            "  Created wheel for keras-gcn: filename=keras_gcn-0.15.0-py3-none-any.whl size=5864 sha256=afb0388c1f7996d6939e4db9636d79bb6cb970abb6673ec06209a620c29210d5\n",
            "  Stored in directory: /root/.cache/pip/wheels/29/4b/c7/3464dafd3fa0cd402df6ada565c8cc5cfdbcad98f2126dbc9c\n",
            "Successfully built keras-gcn\n",
            "Installing collected packages: keras-gcn\n",
            "Successfully installed keras-gcn-0.15.0\n",
            "Mounted at /content/drive\n"
          ]
        }
      ],
      "source": [
        "!pip install scipy\n",
        "!pip install keras-gcn\n",
        "from google.colab import drive\n",
        "drive.mount('/content/drive')\n",
        "import numpy as np\n",
        "import matplotlib.pyplot as plt\n",
        "from sklearn.utils import shuffle\n",
        "import tensorflow as tf\n",
        "from keras_gcn import GraphConv\n",
        "import scipy.io\n",
        "seed = 111;\n",
        "np.random.seed(seed)\n",
        "tf.random.set_seed(seed)\n"
      ]
    },
    {
      "cell_type": "code",
      "source": [
        "Aij = scipy.io.loadmat('/content/trn_data.mat')\n",
        "Aij1 = scipy.io.loadmat('/content/adj_mat_valid.mat')\n",
        "E=np.array(Aij[\"adj_mat_trn1\"]) # EDGE INFO\n",
        "E_test=np.array(Aij1[\"adj_mat_valid\"])\n",
        "\n",
        "\n",
        "#print(Aij)\n",
        "#Label2=scipy.io.loadmat('/content/label_trn.mat')\n",
        "Label3=scipy.io.loadmat('/content/label_valid.mat')\n",
        "Y= np.array(Aij[\"labels_trn1\"]) # Label\n",
        "Y_test=np.array(Label3[\"labels_valid\"]) # Label\n",
        "\n",
        "#N=scipy.io.loadmat('/content/node_feature_trn.mat')\n",
        "N1=scipy.io.loadmat('/content/node_fea_valid.mat')\n",
        "X= np.array(Aij[\"node_fea_trn1\"])  # Node\n",
        "X_test=np.array(N1[\"node_fea_valid\"])  # Node\n",
        "\n",
        "\n",
        "print(X.shape, Y.shape, E.shape)\n",
        "print(X_test.shape, Y_test.shape, E_test.shape)"
      ],
      "metadata": {
        "colab": {
          "base_uri": "https://localhost:8080/"
        },
        "id": "47MowKTMAHkS",
        "outputId": "2e665bd6-973c-4bc8-d080-ed2e4c654de8"
      },
      "execution_count": null,
      "outputs": [
        {
          "output_type": "stream",
          "name": "stdout",
          "text": [
            "(2686, 9, 6) (2686, 2) (2686, 9, 9)\n",
            "(400, 9, 6) (400, 2) (400, 9, 9)\n"
          ]
        }
      ]
    },
    {
      "cell_type": "code",
      "source": [
        "num_nodes=9\n",
        "node_dim=6\n",
        "data_layer = tf.keras.layers.Input(shape=(num_nodes, node_dim))\n",
        "edge_layer = tf.keras.layers.Input(shape=(num_nodes, num_nodes))\n",
        "conv_layer = GraphConv(units=300, step_num=3,)([data_layer, edge_layer])\n",
        "#conv_layer1 = GraphConv(units=500, step_num=3,)([data_layer, edge_layer])\n",
        "\n",
        "conv_layer2 = GraphConv(units=1, step_num=3,)([conv_layer, edge_layer])\n",
        "out1 = tf.squeeze(conv_layer2, 2)\n",
        "out2 = tf.keras.layers.Dense(50, 'tanh')(out1)\n",
        "#out2 = tf.keras.layers.Dense(50, 'tanh')(out2)\n",
        "out = tf.keras.layers.Dense(2, 'softmax')(out2)\n",
        "model = tf.keras.Model([data_layer, edge_layer], out)\n",
        "model.summary()"
      ],
      "metadata": {
        "colab": {
          "base_uri": "https://localhost:8080/"
        },
        "id": "qEIAav8MAMOC",
        "outputId": "65c747a7-466d-4b6c-bfdf-41e703c8cc3f"
      },
      "execution_count": null,
      "outputs": [
        {
          "output_type": "stream",
          "name": "stdout",
          "text": [
            "Model: \"model\"\n",
            "__________________________________________________________________________________________________\n",
            " Layer (type)                   Output Shape         Param #     Connected to                     \n",
            "==================================================================================================\n",
            " input_1 (InputLayer)           [(None, 9, 6)]       0           []                               \n",
            "                                                                                                  \n",
            " input_2 (InputLayer)           [(None, 9, 9)]       0           []                               \n",
            "                                                                                                  \n",
            " graph_conv (GraphConv)         (None, 9, 300)       2100        ['input_1[0][0]',                \n",
            "                                                                  'input_2[0][0]']                \n",
            "                                                                                                  \n",
            " graph_conv_1 (GraphConv)       (None, 9, 1)         301         ['graph_conv[0][0]',             \n",
            "                                                                  'input_2[0][0]']                \n",
            "                                                                                                  \n",
            " tf.compat.v1.squeeze (TFOpLamb  (None, 9)           0           ['graph_conv_1[0][0]']           \n",
            " da)                                                                                              \n",
            "                                                                                                  \n",
            " dense (Dense)                  (None, 50)           500         ['tf.compat.v1.squeeze[0][0]']   \n",
            "                                                                                                  \n",
            " dense_1 (Dense)                (None, 2)            102         ['dense[0][0]']                  \n",
            "                                                                                                  \n",
            "==================================================================================================\n",
            "Total params: 3,003\n",
            "Trainable params: 3,003\n",
            "Non-trainable params: 0\n",
            "__________________________________________________________________________________________________\n"
          ]
        }
      ]
    },
    {
      "cell_type": "code",
      "source": [
        "adam_optimizer = tf.keras.optimizers.Adam(learning_rate=0.001)\n",
        "\n",
        "model.compile(\n",
        "    optimizer=adam_optimizer,\n",
        "    loss=tf.keras.losses.BinaryCrossentropy(),\n",
        "    metrics=['accuracy']\n",
        ")"
      ],
      "metadata": {
        "id": "svjS6MuJAPNi"
      },
      "execution_count": null,
      "outputs": []
    },
    {
      "cell_type": "code",
      "source": [
        "training_history = model.fit(\n",
        "    [X, E],\n",
        "    Y,\n",
        "    epochs=50,\n",
        "    shuffle=True,\n",
        "    validation_data=([X_test,E_test], Y_test),\n",
        ")"
      ],
      "metadata": {
        "colab": {
          "base_uri": "https://localhost:8080/"
        },
        "id": "ExnspozqAQMC",
        "outputId": "e670d0ac-7a84-4afd-96ca-f7e12b626640"
      },
      "execution_count": null,
      "outputs": [
        {
          "output_type": "stream",
          "name": "stdout",
          "text": [
            "Epoch 1/50\n",
            "84/84 [==============================] - 5s 21ms/step - loss: 0.6942 - accuracy: 0.5130 - val_loss: 0.6933 - val_accuracy: 0.5000\n",
            "Epoch 2/50\n",
            "84/84 [==============================] - 1s 10ms/step - loss: 0.6931 - accuracy: 0.5011 - val_loss: 0.6928 - val_accuracy: 0.5000\n",
            "Epoch 3/50\n",
            "84/84 [==============================] - 1s 10ms/step - loss: 0.6903 - accuracy: 0.5074 - val_loss: 0.6858 - val_accuracy: 0.5600\n",
            "Epoch 4/50\n",
            "84/84 [==============================] - 1s 8ms/step - loss: 0.6499 - accuracy: 0.6199 - val_loss: 0.5532 - val_accuracy: 0.7850\n",
            "Epoch 5/50\n",
            "84/84 [==============================] - 1s 8ms/step - loss: 0.4246 - accuracy: 0.8038 - val_loss: 0.2313 - val_accuracy: 0.9400\n",
            "Epoch 6/50\n",
            "84/84 [==============================] - 1s 8ms/step - loss: 0.0914 - accuracy: 0.9862 - val_loss: 0.0351 - val_accuracy: 1.0000\n",
            "Epoch 7/50\n",
            "84/84 [==============================] - 1s 9ms/step - loss: 0.0185 - accuracy: 0.9993 - val_loss: 0.0147 - val_accuracy: 1.0000\n",
            "Epoch 8/50\n",
            "84/84 [==============================] - 1s 8ms/step - loss: 0.0095 - accuracy: 1.0000 - val_loss: 0.0068 - val_accuracy: 1.0000\n",
            "Epoch 9/50\n",
            "84/84 [==============================] - 1s 9ms/step - loss: 0.0051 - accuracy: 1.0000 - val_loss: 0.0068 - val_accuracy: 1.0000\n",
            "Epoch 10/50\n",
            "84/84 [==============================] - 1s 8ms/step - loss: 0.0034 - accuracy: 1.0000 - val_loss: 0.0037 - val_accuracy: 1.0000\n",
            "Epoch 11/50\n",
            "84/84 [==============================] - 1s 7ms/step - loss: 0.0042 - accuracy: 0.9996 - val_loss: 0.0020 - val_accuracy: 1.0000\n",
            "Epoch 12/50\n",
            "84/84 [==============================] - 0s 5ms/step - loss: 0.0020 - accuracy: 1.0000 - val_loss: 0.0016 - val_accuracy: 1.0000\n",
            "Epoch 13/50\n",
            "84/84 [==============================] - 0s 5ms/step - loss: 0.0014 - accuracy: 1.0000 - val_loss: 0.0021 - val_accuracy: 1.0000\n",
            "Epoch 14/50\n",
            "84/84 [==============================] - 0s 5ms/step - loss: 0.0015 - accuracy: 1.0000 - val_loss: 0.0011 - val_accuracy: 1.0000\n",
            "Epoch 15/50\n",
            "84/84 [==============================] - 0s 5ms/step - loss: 0.1286 - accuracy: 0.9643 - val_loss: 0.3524 - val_accuracy: 0.8475\n",
            "Epoch 16/50\n",
            "84/84 [==============================] - 0s 5ms/step - loss: 0.0138 - accuracy: 0.9966 - val_loss: 0.0019 - val_accuracy: 1.0000\n",
            "Epoch 17/50\n",
            "84/84 [==============================] - 0s 4ms/step - loss: 0.0018 - accuracy: 1.0000 - val_loss: 0.0016 - val_accuracy: 1.0000\n",
            "Epoch 18/50\n",
            "84/84 [==============================] - 1s 6ms/step - loss: 0.0016 - accuracy: 1.0000 - val_loss: 0.0028 - val_accuracy: 1.0000\n",
            "Epoch 19/50\n",
            "84/84 [==============================] - 1s 7ms/step - loss: 0.0015 - accuracy: 1.0000 - val_loss: 0.0012 - val_accuracy: 1.0000\n",
            "Epoch 20/50\n",
            "84/84 [==============================] - 1s 8ms/step - loss: 0.0013 - accuracy: 1.0000 - val_loss: 0.0011 - val_accuracy: 1.0000\n",
            "Epoch 21/50\n",
            "84/84 [==============================] - 1s 11ms/step - loss: 0.0012 - accuracy: 1.0000 - val_loss: 9.8818e-04 - val_accuracy: 1.0000\n",
            "Epoch 22/50\n",
            "84/84 [==============================] - 1s 11ms/step - loss: 0.0011 - accuracy: 1.0000 - val_loss: 8.8464e-04 - val_accuracy: 1.0000\n",
            "Epoch 23/50\n",
            "84/84 [==============================] - 1s 13ms/step - loss: 0.0011 - accuracy: 1.0000 - val_loss: 0.0012 - val_accuracy: 1.0000\n",
            "Epoch 24/50\n",
            "84/84 [==============================] - 1s 8ms/step - loss: 9.6730e-04 - accuracy: 1.0000 - val_loss: 7.0195e-04 - val_accuracy: 1.0000\n",
            "Epoch 25/50\n",
            "84/84 [==============================] - 1s 9ms/step - loss: 7.8426e-04 - accuracy: 1.0000 - val_loss: 8.4926e-04 - val_accuracy: 1.0000\n",
            "Epoch 26/50\n",
            "84/84 [==============================] - 1s 7ms/step - loss: 6.8994e-04 - accuracy: 1.0000 - val_loss: 0.0012 - val_accuracy: 1.0000\n",
            "Epoch 27/50\n",
            "84/84 [==============================] - 1s 11ms/step - loss: 6.1032e-04 - accuracy: 1.0000 - val_loss: 6.7623e-04 - val_accuracy: 1.0000\n",
            "Epoch 28/50\n",
            "84/84 [==============================] - 1s 11ms/step - loss: 6.3634e-04 - accuracy: 1.0000 - val_loss: 6.5737e-04 - val_accuracy: 1.0000\n",
            "Epoch 29/50\n",
            "84/84 [==============================] - 1s 6ms/step - loss: 5.7953e-04 - accuracy: 1.0000 - val_loss: 4.4833e-04 - val_accuracy: 1.0000\n",
            "Epoch 30/50\n",
            "84/84 [==============================] - 0s 4ms/step - loss: 7.4222e-04 - accuracy: 1.0000 - val_loss: 5.0142e-04 - val_accuracy: 1.0000\n",
            "Epoch 31/50\n",
            "84/84 [==============================] - 0s 5ms/step - loss: 8.1157e-04 - accuracy: 1.0000 - val_loss: 3.8337e-04 - val_accuracy: 1.0000\n",
            "Epoch 32/50\n",
            "84/84 [==============================] - 0s 5ms/step - loss: 7.6298e-04 - accuracy: 1.0000 - val_loss: 3.7220e-04 - val_accuracy: 1.0000\n",
            "Epoch 33/50\n",
            "84/84 [==============================] - 0s 5ms/step - loss: 4.2166e-04 - accuracy: 1.0000 - val_loss: 3.2437e-04 - val_accuracy: 1.0000\n",
            "Epoch 34/50\n",
            "84/84 [==============================] - 0s 5ms/step - loss: 0.0011 - accuracy: 1.0000 - val_loss: 2.9505e-04 - val_accuracy: 1.0000\n",
            "Epoch 35/50\n",
            "84/84 [==============================] - 0s 4ms/step - loss: 4.6713e-04 - accuracy: 1.0000 - val_loss: 3.4337e-04 - val_accuracy: 1.0000\n",
            "Epoch 36/50\n",
            "84/84 [==============================] - 0s 5ms/step - loss: 4.7308e-04 - accuracy: 1.0000 - val_loss: 3.3441e-04 - val_accuracy: 1.0000\n",
            "Epoch 37/50\n",
            "84/84 [==============================] - 0s 4ms/step - loss: 4.3091e-04 - accuracy: 1.0000 - val_loss: 2.2274e-04 - val_accuracy: 1.0000\n",
            "Epoch 38/50\n",
            "84/84 [==============================] - 0s 4ms/step - loss: 7.3144e-04 - accuracy: 1.0000 - val_loss: 2.4740e-04 - val_accuracy: 1.0000\n",
            "Epoch 39/50\n",
            "84/84 [==============================] - 0s 4ms/step - loss: 2.3252e-04 - accuracy: 1.0000 - val_loss: 3.2468e-04 - val_accuracy: 1.0000\n",
            "Epoch 40/50\n",
            "84/84 [==============================] - 0s 4ms/step - loss: 2.3189e-04 - accuracy: 1.0000 - val_loss: 1.8350e-04 - val_accuracy: 1.0000\n",
            "Epoch 41/50\n",
            "84/84 [==============================] - 0s 4ms/step - loss: 3.4728e-04 - accuracy: 1.0000 - val_loss: 1.6671e-04 - val_accuracy: 1.0000\n",
            "Epoch 42/50\n",
            "84/84 [==============================] - 0s 5ms/step - loss: 3.9670e-04 - accuracy: 1.0000 - val_loss: 0.0011 - val_accuracy: 1.0000\n",
            "Epoch 43/50\n",
            "84/84 [==============================] - 0s 4ms/step - loss: 0.1445 - accuracy: 0.9665 - val_loss: 0.0010 - val_accuracy: 1.0000\n",
            "Epoch 44/50\n",
            "84/84 [==============================] - 0s 5ms/step - loss: 0.0180 - accuracy: 0.9944 - val_loss: 0.0011 - val_accuracy: 1.0000\n",
            "Epoch 45/50\n",
            "84/84 [==============================] - 1s 7ms/step - loss: 0.0011 - accuracy: 1.0000 - val_loss: 9.6370e-04 - val_accuracy: 1.0000\n",
            "Epoch 46/50\n",
            "84/84 [==============================] - 1s 6ms/step - loss: 0.0010 - accuracy: 1.0000 - val_loss: 0.0016 - val_accuracy: 1.0000\n",
            "Epoch 47/50\n",
            "84/84 [==============================] - 1s 6ms/step - loss: 8.2626e-04 - accuracy: 1.0000 - val_loss: 8.5477e-04 - val_accuracy: 1.0000\n",
            "Epoch 48/50\n",
            "84/84 [==============================] - 1s 7ms/step - loss: 8.8986e-04 - accuracy: 1.0000 - val_loss: 0.0023 - val_accuracy: 1.0000\n",
            "Epoch 49/50\n",
            "84/84 [==============================] - 1s 6ms/step - loss: 8.8152e-04 - accuracy: 1.0000 - val_loss: 6.6985e-04 - val_accuracy: 1.0000\n",
            "Epoch 50/50\n",
            "84/84 [==============================] - 1s 7ms/step - loss: 6.1268e-04 - accuracy: 1.0000 - val_loss: 5.1725e-04 - val_accuracy: 1.0000\n"
          ]
        }
      ]
    },
    {
      "cell_type": "code",
      "source": [
        "plt.xlabel('Epoch Number')\n",
        "plt.ylabel('Loss')\n",
        "plt.plot(training_history.history['loss'], label='training set')\n",
        "plt.plot(training_history.history['val_loss'], label='validation set')\n",
        "plt.legend()\n",
        "plt.xlabel('Epoch Number')\n",
        "plt.ylabel('Accuracy')\n",
        "plt.plot(training_history.history['accuracy'], label='training set')\n",
        "plt.plot(training_history.history['val_accuracy'], label='validation set')\n",
        "plt.legend()"
      ],
      "metadata": {
        "colab": {
          "base_uri": "https://localhost:8080/",
          "height": 466
        },
        "id": "-sXOoU14AbVK",
        "outputId": "99cf1a1b-dc0b-47c0-c556-7102610a96d1"
      },
      "execution_count": null,
      "outputs": [
        {
          "output_type": "execute_result",
          "data": {
            "text/plain": [
              "<matplotlib.legend.Legend at 0x7f3638695b70>"
            ]
          },
          "metadata": {},
          "execution_count": 8
        },
        {
          "output_type": "display_data",
          "data": {
            "text/plain": [
              "<Figure size 640x480 with 1 Axes>"
            ],
            "image/png": "[encoded data removed]"
          },
          "metadata": {}
        }
      ]
    },
    {
      "cell_type": "code",
      "source": [
        "!pip install pyyaml h5py  # Required to save models in HDF5 format\n",
        "\n",
        "model.save('/content/drive/MyDrive/gnn_pearson_model/my_model_theta_eye_close_cluster5.h5')\n",
        "new_model = tf.keras.models.load_model('/content/drive/MyDrive/gnn_pearson_model/my_model_theta_eye_close_cluster5.h5', custom_objects = {'GraphConv': GraphConv})\n",
        "\n",
        "# Show the model architecture\n",
        "new_model.summary()"
      ],
      "metadata": {
        "colab": {
          "base_uri": "https://localhost:8080/"
        },
        "id": "CtmKOGUsAhTl",
        "outputId": "422d7b2c-7a47-4d1e-ad40-64e169f39b87"
      },
      "execution_count": null,
      "outputs": [
        {
          "output_type": "stream",
          "name": "stdout",
          "text": [
            "Looking in indexes: https://pypi.org/simple, https://us-python.pkg.dev/colab-wheels/public/simple/\n",
            "Requirement already satisfied: pyyaml in /usr/local/lib/python3.10/dist-packages (6.0)\n",
            "Requirement already satisfied: h5py in /usr/local/lib/python3.10/dist-packages (3.8.0)\n",
            "Requirement already satisfied: numpy>=1.14.5 in /usr/local/lib/python3.10/dist-packages (from h5py) (1.22.4)\n",
            "Model: \"model\"\n",
            "__________________________________________________________________________________________________\n",
            " Layer (type)                   Output Shape         Param #     Connected to                     \n",
            "==================================================================================================\n",
            " input_1 (InputLayer)           [(None, 9, 6)]       0           []                               \n",
            "                                                                                                  \n",
            " input_2 (InputLayer)           [(None, 9, 9)]       0           []                               \n",
            "                                                                                                  \n",
            " graph_conv (GraphConv)         (None, 9, 300)       2100        ['input_1[0][0]',                \n",
            "                                                                  'input_2[0][0]']                \n",
            "                                                                                                  \n",
            " graph_conv_1 (GraphConv)       (None, 9, 1)         301         ['graph_conv[0][0]',             \n",
            "                                                                  'input_2[0][0]']                \n",
            "                                                                                                  \n",
            " tf.compat.v1.squeeze (TFOpLamb  (None, 9)           0           ['graph_conv_1[0][0]']           \n",
            " da)                                                                                              \n",
            "                                                                                                  \n",
            " dense (Dense)                  (None, 50)           500         ['tf.compat.v1.squeeze[0][0]']   \n",
            "                                                                                                  \n",
            " dense_1 (Dense)                (None, 2)            102         ['dense[0][0]']                  \n",
            "                                                                                                  \n",
            "==================================================================================================\n",
            "Total params: 3,003\n",
            "Trainable params: 3,003\n",
            "Non-trainable params: 0\n",
            "__________________________________________________________________________________________________\n"
          ]
        }
      ]
    },
    {
      "cell_type": "code",
      "source": [
        "# load test data\n",
        "\n",
        "Aij1 = scipy.io.loadmat('/content/adj_mat_test.mat')\n",
        "N1=scipy.io.loadmat('/content/node_fea_test.mat')\n",
        "E_test=np.array(Aij1[\"adj_mat_test_he13\"])\n",
        "X_test=np.array(N1[\"node_fea_test_he13\"])  # Node\n",
        "\n",
        "Label3=scipy.io.loadmat('/content/label_test.mat')\n",
        "Y_test=np.array(Label3[\"labels_test2\"]) # Label\n",
        "#print(X_test.shape, Y_test.shape, E_test.shape)\n",
        "labels = new_model.predict([X_test, E_test])\n",
        "label5=labels;\n",
        "print(label5.shape)\n",
        "print(label5)\n",
        "label5[list(range(label5.shape[0])), np.argmax(label5, 1)]=1\n",
        "label5[np.where(label5 != 1)] = 0\n",
        "label5\n",
        "# Ensemble with voting\n",
        "#print(np.mean(labels, axis = 0))"
      ],
      "metadata": {
        "colab": {
          "base_uri": "https://localhost:8080/"
        },
        "id": "cA_E58YQAlNl",
        "outputId": "bdda2bb9-c32a-4169-9c84-3f4c419455c1"
      },
      "execution_count": null,
      "outputs": [
        {
          "output_type": "stream",
          "name": "stdout",
          "text": [
            "2/2 [==============================] - 0s 11ms/step\n",
            "(40, 2)\n",
            "[[1.26536275e-08 9.99999940e-01]\n",
            " [1.22131940e-08 9.99999940e-01]\n",
            " [3.76186748e-10 9.99999940e-01]\n",
            " [9.94809923e-09 9.99999940e-01]\n",
            " [2.43853879e-08 9.99999940e-01]\n",
            " [1.94872979e-10 9.99999940e-01]\n",
            " [4.87618252e-07 9.99999464e-01]\n",
            " [1.64057024e-09 9.99999940e-01]\n",
            " [7.16947224e-10 9.99999940e-01]\n",
            " [1.76597403e-08 9.99999940e-01]\n",
            " [3.69833741e-09 9.99999940e-01]\n",
            " [1.11063925e-09 9.99999940e-01]\n",
            " [7.24148685e-10 9.99999940e-01]\n",
            " [3.15339177e-09 9.99999940e-01]\n",
            " [1.45150869e-09 9.99999940e-01]\n",
            " [9.52508028e-09 9.99999940e-01]\n",
            " [1.73423564e-09 9.99999940e-01]\n",
            " [5.44795142e-08 9.99999940e-01]\n",
            " [1.34634547e-07 9.99999821e-01]\n",
            " [9.25259147e-10 9.99999940e-01]\n",
            " [4.27173186e-10 9.99999940e-01]\n",
            " [1.38563777e-07 9.99999821e-01]\n",
            " [2.11841189e-09 9.99999940e-01]\n",
            " [9.67589386e-08 9.99999821e-01]\n",
            " [5.38030998e-09 9.99999940e-01]\n",
            " [2.75942247e-09 9.99999940e-01]\n",
            " [4.19088728e-08 9.99999940e-01]\n",
            " [5.70454661e-09 9.99999940e-01]\n",
            " [1.55436393e-08 9.99999940e-01]\n",
            " [6.67583535e-08 9.99999821e-01]\n",
            " [2.14799956e-09 9.99999940e-01]\n",
            " [1.06068789e-08 9.99999940e-01]\n",
            " [4.20032222e-08 9.99999940e-01]\n",
            " [3.92028499e-09 9.99999940e-01]\n",
            " [3.36502630e-08 9.99999940e-01]\n",
            " [9.53427737e-09 9.99999940e-01]\n",
            " [1.53693429e-06 9.99998391e-01]\n",
            " [4.76782063e-08 9.99999940e-01]\n",
            " [5.85867248e-08 9.99999940e-01]\n",
            " [5.97984151e-09 9.99999940e-01]]\n"
          ]
        },
        {
          "output_type": "execute_result",
          "data": {
            "text/plain": [
              "array([[0., 1.],\n",
              "       [0., 1.],\n",
              "       [0., 1.],\n",
              "       [0., 1.],\n",
              "       [0., 1.],\n",
              "       [0., 1.],\n",
              "       [0., 1.],\n",
              "       [0., 1.],\n",
              "       [0., 1.],\n",
              "       [0., 1.],\n",
              "       [0., 1.],\n",
              "       [0., 1.],\n",
              "       [0., 1.],\n",
              "       [0., 1.],\n",
              "       [0., 1.],\n",
              "       [0., 1.],\n",
              "       [0., 1.],\n",
              "       [0., 1.],\n",
              "       [0., 1.],\n",
              "       [0., 1.],\n",
              "       [0., 1.],\n",
              "       [0., 1.],\n",
              "       [0., 1.],\n",
              "       [0., 1.],\n",
              "       [0., 1.],\n",
              "       [0., 1.],\n",
              "       [0., 1.],\n",
              "       [0., 1.],\n",
              "       [0., 1.],\n",
              "       [0., 1.],\n",
              "       [0., 1.],\n",
              "       [0., 1.],\n",
              "       [0., 1.],\n",
              "       [0., 1.],\n",
              "       [0., 1.],\n",
              "       [0., 1.],\n",
              "       [0., 1.],\n",
              "       [0., 1.],\n",
              "       [0., 1.],\n",
              "       [0., 1.]], dtype=float32)"
            ]
          },
          "metadata": {},
          "execution_count": 26
        }
      ]
    }
  ]
}